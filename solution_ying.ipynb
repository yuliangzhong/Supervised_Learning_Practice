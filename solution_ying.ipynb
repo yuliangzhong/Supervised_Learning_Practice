{
 "cells": [
  {
   "cell_type": "code",
   "execution_count": null,
   "metadata": {},
   "outputs": [],
   "source": [
    "import pandas as pd\n",
    "import numpy as np\n",
    "\n",
    "train_X = pd.read_csv(\"./data/train_features.csv\").to_numpy()[:, 2:]\n",
    "train_Y = pd.read_csv(\"./data/train_labels.csv\").to_numpy()[:, 1:]\n",
    "\n",
    "test_X = pd.read_csv(\"./data/test_features.csv\").to_numpy()[:, 2:]\n",
    "test_Y = pd.read_csv(\"./data/sample.csv\")"
   ]
  },
  {
   "cell_type": "code",
   "execution_count": null,
   "metadata": {},
   "outputs": [],
   "source": [
    "def extract_features(X):\n",
    "    features = []\n",
    "    for i in range(X.shape[0]//12):\n",
    "        patient = X[i*12:i*12+12, :]\n",
    "        x = []\n",
    "        x = np.concatenate((x, np.nanmedian(patient, axis=0)))\n",
    "        x = np.concatenate((x, np.nanmean(patient, axis=0)))\n",
    "        x = np.concatenate((x, np.count_nonzero(np.isnan(patient), axis = 0)))\n",
    "        features.append(x)\n",
    "    return np.array(features)\n",
    "\n",
    "train_X = extract_features(train_X) \n",
    "test_X = extract_features(test_X) "
   ]
  },
  {
   "cell_type": "code",
   "execution_count": null,
   "metadata": {},
   "outputs": [],
   "source": [
    "import xgboost as xgb\n",
    "from sklearn.model_selection import cross_val_score\n",
    "from sklearn.metrics import balanced_accuracy_score\n",
    "from collections import Counter\n",
    "\n",
    "\n",
    "for i in range(11):\n",
    "    y = train_Y[:, i]\n",
    "    count = Counter(y)\n",
    "    imbalance = count[0] / count[1]\n",
    "    clf = xgb.XGBClassifier(scale_pos_weight=imbalance)\n",
    "    model = clf.fit(train_X, y)\n",
    "    pred = model.predict_proba(test_X)[:, 1]\n",
    "    test_Y[test_Y.columns[i+1]] = pred\n",
    "    \n",
    "for i in range(11, 15):\n",
    "    y = train_Y[:, i]\n",
    "    clf = xgb.XGBRegressor()\n",
    "    model = clf.fit(train_X, y)\n",
    "    pred = model.predict(test_X)\n",
    "    test_Y[test_Y.columns[i+1]] = pred\n",
    "    "
   ]
  },
  {
   "cell_type": "code",
   "execution_count": null,
   "metadata": {},
   "outputs": [],
   "source": [
    "test_Y.to_csv('prediction.zip', index=False, float_format='%.3f', compression='zip')"
   ]
  }
 ],
 "metadata": {
  "kernelspec": {
   "display_name": "Python 3",
   "language": "python",
   "name": "python3"
  },
  "language_info": {
   "codemirror_mode": {
    "name": "ipython",
    "version": 3
   },
   "file_extension": ".py",
   "mimetype": "text/x-python",
   "name": "python",
   "nbconvert_exporter": "python",
   "pygments_lexer": "ipython3",
   "version": "3.8.8"
  }
 },
 "nbformat": 4,
 "nbformat_minor": 4
}
