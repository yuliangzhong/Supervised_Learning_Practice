{
 "cells": [
  {
   "cell_type": "code",
   "execution_count": 4,
   "id": "42e45b8f",
   "metadata": {},
   "outputs": [],
   "source": [
    "# feature engineering: interpolation for time-varying dataset\n",
    "# classification: (kernel) SVM_classification,Neural Network\n",
    "# regression: (kernel) SVM_regression,Neural Network\n",
    "# inbalanced data, class_weight or downsampling\n",
    "\n",
    "import numpy as np\n",
    "import pandas as pd\n",
    "from sklearn.model_selection import train_test_split\n",
    "from sklearn import svm\n",
    "from sklearn.pipeline import make_pipeline\n",
    "from sklearn.preprocessing import StandardScaler\n",
    "import random"
   ]
  },
  {
   "cell_type": "code",
   "execution_count": 5,
   "id": "f5e0bf62",
   "metadata": {},
   "outputs": [],
   "source": [
    "# data loading\n",
    "train_data = np.loadtxt(\"train_features.csv\",delimiter = \",\",skiprows = 1,usecols = range(2,37))\n",
    "train_labels = np.loadtxt(\"train_labels.csv\",delimiter = \",\",skiprows = 1,usecols = range(1,16)) #18995*15 matrix\n",
    "test_data = np.loadtxt(\"test_features.csv\",delimiter = \",\",skiprows = 1,usecols = range(2,37))"
   ]
  },
  {
   "cell_type": "code",
   "execution_count": 6,
   "id": "c5a07a10",
   "metadata": {},
   "outputs": [],
   "source": [
    "# data imputation and reshape:\n",
    "# if data exists, interpolate it for both direction; else, set 'nan' to zeros as a new feature\n",
    "# hardcoded here for data shape\n",
    "def data_imputation(data):\n",
    "    results = np.zeros((data.shape[0]//12,12*35))\n",
    "    for i in range(data.shape[0]//12):\n",
    "        tmp = data[12*i:12*(i+1),:]\n",
    "        tmp_pd = pd.DataFrame(tmp).interpolate(method = 'linear',limit_direction = 'both').replace(np.nan,0) # it is a pandas\n",
    "        results[i] = tmp_pd.values.reshape((1,12*35),order = 'F')   # it is a ndarray # reshape order = F or C (row or col)\n",
    "    return results"
   ]
  },
  {
   "cell_type": "code",
   "execution_count": 7,
   "id": "6aed4bd1",
   "metadata": {},
   "outputs": [],
   "source": [
    "def data_downSampling(train,label):\n",
    "    # separate 0s and 1s\n",
    "    one_index = []\n",
    "    zero_index = []\n",
    "    for i in range(len(label)):\n",
    "        if (label[i] == 1): one_index.append(i)\n",
    "        elif(label[i] == 0): zero_index.append(i)\n",
    "    # for robustness\n",
    "    if(len(zero_index)<len(one_index)): return train,label\n",
    "    # downsample the 0s to match the size of 1s\n",
    "    else:\n",
    "        ones = len(one_index)\n",
    "        downsampled_train = np.zeros((2*ones,train.shape[1]))\n",
    "        for i in range(ones):\n",
    "            downsampled_train[i,:] = train[one_index[i],:]\n",
    "        zeroindex = random.sample(zero_index,ones)\n",
    "        for i in range(ones):\n",
    "            downsampled_train[i+ones,:] = train[zeroindex[i],:]\n",
    "        return downsampled_train, np.append(np.ones(ones),np.zeros(ones))"
   ]
  },
  {
   "cell_type": "code",
   "execution_count": 8,
   "id": "ba61c49b",
   "metadata": {},
   "outputs": [],
   "source": [
    "train_samples = data_imputation(train_data) # 18995*420 train matrix\n",
    "test_samples = data_imputation(test_data)  # 12664*420 test matrix"
   ]
  },
  {
   "cell_type": "code",
   "execution_count": 9,
   "id": "849f6db0",
   "metadata": {},
   "outputs": [],
   "source": [
    "# config\n",
    "SVC_params = {'C':1.0,'kernel':'rbf', 'probability':True}\n",
    "SVR_params = {'C':1.0,'kernel':'rbf','epsilon':0.1}"
   ]
  },
  {
   "cell_type": "code",
   "execution_count": 10,
   "id": "c71d575e",
   "metadata": {},
   "outputs": [],
   "source": [
    "results = np.zeros((test_samples.shape[0],15))"
   ]
  },
  {
   "cell_type": "code",
   "execution_count": 11,
   "id": "958d7235",
   "metadata": {},
   "outputs": [
    {
     "name": "stdout",
     "output_type": "stream",
     "text": [
      "0.0 %done\n",
      "9.090909090909092 %done\n",
      "18.181818181818183 %done\n",
      "27.27272727272727 %done\n",
      "36.36363636363637 %done\n",
      "45.45454545454545 %done\n",
      "54.54545454545454 %done\n",
      "63.63636363636363 %done\n",
      "72.72727272727273 %done\n",
      "81.81818181818183 %done\n",
      "90.9090909090909 %done\n"
     ]
    }
   ],
   "source": [
    "for i in range(11): # about 15min in total\n",
    "    print(i/11*100,\"%done\")\n",
    "    x,y = data_downSampling(train_samples,train_labels[:,i])\n",
    "    model = make_pipeline(StandardScaler(),svm.SVC(**SVC_params))\n",
    "    model.fit(x,y)\n",
    "    results[:,i] = model.predict_proba(test_samples)[:,1]"
   ]
  },
  {
   "cell_type": "code",
   "execution_count": 12,
   "id": "90db0589",
   "metadata": {},
   "outputs": [
    {
     "name": "stdout",
     "output_type": "stream",
     "text": [
      "0.0 % done\n",
      "25.0 % done\n",
      "50.0 % done\n",
      "75.0 % done\n"
     ]
    }
   ],
   "source": [
    "for i in range(4): # about 5min in total\n",
    "    print(i/4*100,\"% done\")\n",
    "    X_train, X_test, y_train, y_test = train_test_split(train_samples, train_labels[:,i+11], test_size=0.5, random_state=42)\n",
    "    model = make_pipeline(StandardScaler(),svm.SVR(**SVR_params))\n",
    "    model.fit(X_train,y_train)\n",
    "    results[:,i+11] = model.predict(test_samples)\n",
    "#print(results[0])"
   ]
  },
  {
   "cell_type": "code",
   "execution_count": 13,
   "id": "c4edf468",
   "metadata": {},
   "outputs": [
    {
     "data": {
      "text/plain": [
       "array([ 0.75387777,  0.81844636,  0.77124992,  0.74811651,  0.7844246 ,\n",
       "        0.74525592,  0.29490504,  0.55802176,  0.79253951,  0.6152522 ,\n",
       "        0.5739433 , 18.60417832, 81.86481371, 97.15250078, 84.6593394 ])"
      ]
     },
     "execution_count": 13,
     "metadata": {},
     "output_type": "execute_result"
    }
   ],
   "source": [
    "# write data\n",
    "pd.DataFrame(results).to_csv('prediction.csv', index=False, float_format='%.3f')\n",
    "# show example\n",
    "results[0]"
   ]
  },
  {
   "cell_type": "code",
   "execution_count": null,
   "id": "28297195",
   "metadata": {},
   "outputs": [],
   "source": []
  }
 ],
 "metadata": {
  "kernelspec": {
   "display_name": "Python 3",
   "language": "python",
   "name": "python3"
  },
  "language_info": {
   "codemirror_mode": {
    "name": "ipython",
    "version": 3
   },
   "file_extension": ".py",
   "mimetype": "text/x-python",
   "name": "python",
   "nbconvert_exporter": "python",
   "pygments_lexer": "ipython3",
   "version": "3.8.8"
  }
 },
 "nbformat": 4,
 "nbformat_minor": 5
}
